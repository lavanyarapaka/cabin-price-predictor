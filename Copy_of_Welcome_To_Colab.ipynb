{
  "cells": [
    {
      "cell_type": "code",
      "source": [
        "# Cabin Price Predictor using Linear Regression\n",
        "\n",
        "# Coefficients\n",
        "coefficients = {\n",
        "    \"size\": 3000,\n",
        "    \"sauna\": 200,\n",
        "    \"distance_to_water\": -50,\n",
        "    \"bathrooms\": 5000,\n",
        "    \"neighbors\": 100\n",
        "}\n",
        "\n",
        "# Function to predict price\n",
        "def predict_price(size, sauna, distance_to_water, bathrooms, neighbors):\n",
        "    price = (coefficients[\"size\"] * size +\n",
        "             coefficients[\"sauna\"] * sauna +\n",
        "             coefficients[\"distance_to_water\"] * distance_to_water +\n",
        "             coefficients[\"bathrooms\"] * bathrooms +\n",
        "             coefficients[\"neighbors\"] * neighbors)\n",
        "    return price\n",
        "\n",
        "# Example cabins (size, sauna, distance_to_water, bathrooms, neighbors)\n",
        "cabins = [\n",
        "    {\"name\": \"Cabin 1\", \"size\": 25, \"sauna\": 2, \"distance\": 50, \"bathrooms\": 1, \"neighbors\": 500},\n",
        "    {\"name\": \"Cabin 2\", \"size\": 39, \"sauna\": 3, \"distance\": 10, \"bathrooms\": 1, \"neighbors\": 1000},\n",
        "    {\"name\": \"Cabin 3\", \"size\": 130, \"sauna\": 6, \"distance\": 10, \"bathrooms\": 2, \"neighbors\": 600},\n",
        "    {\"name\": \"Cabin 4\", \"size\": 115, \"sauna\": 6, \"distance\": 10, \"bathrooms\": 1, \"neighbors\": 550},\n",
        "]\n",
        "\n",
        "# Predict and display prices\n",
        "for cabin in cabins:\n",
        "    predicted = predict_price(cabin[\"size\"], cabin[\"sauna\"], cabin[\"distance\"],\n",
        "                              cabin[\"bathrooms\"], cabin[\"neighbors\"])\n",
        "    print(f'{cabin[\"name\"]}: Predicted Price = €{predicted:,.2f}')\n",
        "\n",
        "\n"
      ],
      "metadata": {
        "colab": {
          "base_uri": "https://localhost:8080/"
        },
        "id": "AnEk1TJG-zQf",
        "outputId": "0b53d12f-158a-4ca1-b514-c68502f2d034"
      },
      "execution_count": 1,
      "outputs": [
        {
          "output_type": "stream",
          "name": "stdout",
          "text": [
            "Cabin 1: Predicted Price = €127,900.00\n",
            "Cabin 2: Predicted Price = €222,100.00\n",
            "Cabin 3: Predicted Price = €460,700.00\n",
            "Cabin 4: Predicted Price = €405,700.00\n"
          ]
        }
      ]
    },
    {
      "cell_type": "code",
      "source": [],
      "metadata": {
        "id": "JF5guXSi6Ys4"
      },
      "execution_count": null,
      "outputs": []
    },
    {
      "cell_type": "markdown",
      "source": [],
      "metadata": {
        "id": "PnaEoY0P6Y8j"
      }
    }
  ],
  "metadata": {
    "colab": {
      "provenance": []
    },
    "kernelspec": {
      "display_name": "Python 3",
      "name": "python3"
    }
  },
  "nbformat": 4,
  "nbformat_minor": 0
}